{
 "cells": [
  {
   "cell_type": "code",
   "execution_count": 2,
   "metadata": {},
   "outputs": [],
   "source": [
    "import numpy as np\n",
    "import time\n",
    "import math"
   ]
  },
  {
   "cell_type": "markdown",
   "metadata": {},
   "source": [
    "# Vector operations"
   ]
  },
  {
   "cell_type": "code",
   "execution_count": 4,
   "metadata": {},
   "outputs": [],
   "source": [
    "SIZE = int(1e6)\n",
    "x = np.random.uniform(size=SIZE)\n",
    "y = np.random.uniform(size=SIZE)"
   ]
  },
  {
   "cell_type": "markdown",
   "metadata": {},
   "source": [
    "# Dot products"
   ]
  },
  {
   "cell_type": "code",
   "execution_count": 5,
   "metadata": {},
   "outputs": [],
   "source": [
    "def dot_product(x, y):\n",
    "    result = 0\n",
    "    for i in range(len(x)):\n",
    "        result += x[i] * y[i]\n",
    "    return result\n"
   ]
  },
  {
   "cell_type": "code",
   "execution_count": 6,
   "metadata": {},
   "outputs": [
    {
     "name": "stdout",
     "output_type": "stream",
     "text": [
      "x * y = 249754.69799146944 in 0.29134392738342285 seconds\n"
     ]
    }
   ],
   "source": [
    "start = time.time()\n",
    "result = dot_product(x, y)\n",
    "end = time.time()\n",
    "\n",
    "print(\"x * y = {} in {} seconds\".format(result, end - start))"
   ]
  },
  {
   "cell_type": "code",
   "execution_count": 8,
   "metadata": {},
   "outputs": [
    {
     "name": "stdout",
     "output_type": "stream",
     "text": [
      "x * y = 249754.69799147802 in 0.0008268356323242188 seconds\n"
     ]
    }
   ],
   "source": [
    "start = time.time()\n",
    "result = np.dot(x, y)\n",
    "end = time.time()\n",
    "\n",
    "print(\"x * y = {} in {} seconds\".format(result, end - start))"
   ]
  },
  {
   "cell_type": "markdown",
   "metadata": {},
   "source": [
    "# Evaluate $\\| x - y \\|_2$"
   ]
  },
  {
   "cell_type": "code",
   "execution_count": 9,
   "metadata": {},
   "outputs": [],
   "source": [
    "def norm(x, y):\n",
    "    return math.sqrt(sum((xi - yi)**2 for xi, yi in zip(x, y)))"
   ]
  },
  {
   "cell_type": "code",
   "execution_count": 10,
   "metadata": {},
   "outputs": [
    {
     "name": "stdout",
     "output_type": "stream",
     "text": [
      "norm(x, y) = 408.1672498206413 in 0.43125391006469727 seconds\n"
     ]
    }
   ],
   "source": [
    "start = time.time()\n",
    "result = norm(x, y)\n",
    "end = time.time()\n",
    "\n",
    "print(\"norm(x, y) = {} in {} seconds\".format(result, end - start))"
   ]
  },
  {
   "cell_type": "code",
   "execution_count": 11,
   "metadata": {},
   "outputs": [
    {
     "name": "stdout",
     "output_type": "stream",
     "text": [
      "norm(x, y) = 408.1672498206382 in 0.005266904830932617 seconds\n"
     ]
    }
   ],
   "source": [
    "start = time.time()\n",
    "result = np.linalg.norm(x - y)\n",
    "end = time.time()\n",
    "\n",
    "print(\"norm(x, y) = {} in {} seconds\".format(result, end - start))"
   ]
  },
  {
   "cell_type": "markdown",
   "metadata": {},
   "source": [
    "# Matrix multiplication"
   ]
  },
  {
   "cell_type": "code",
   "execution_count": 14,
   "metadata": {},
   "outputs": [],
   "source": [
    "N, M = 300, 300\n",
    "mat1 = np.random.uniform(size=(N, M))\n",
    "mat2 = np.random.uniform(size=(M, N))"
   ]
  },
  {
   "cell_type": "code",
   "execution_count": null,
   "metadata": {},
   "outputs": [],
   "source": []
  }
 ],
 "metadata": {
  "kernelspec": {
   "display_name": "Python 3.9.1 64-bit",
   "language": "python",
   "name": "python3"
  },
  "language_info": {
   "codemirror_mode": {
    "name": "ipython",
    "version": 3
   },
   "file_extension": ".py",
   "mimetype": "text/x-python",
   "name": "python",
   "nbconvert_exporter": "python",
   "pygments_lexer": "ipython3",
   "version": "3.9.1"
  },
  "orig_nbformat": 4,
  "vscode": {
   "interpreter": {
    "hash": "aee8b7b246df8f9039afb4144a1f6fd8d2ca17a180786b69acc140d282b71a49"
   }
  }
 },
 "nbformat": 4,
 "nbformat_minor": 2
}
