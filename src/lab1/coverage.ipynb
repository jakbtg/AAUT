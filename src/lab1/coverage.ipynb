{
 "cells": [
  {
   "cell_type": "code",
   "execution_count": 1,
   "metadata": {},
   "outputs": [],
   "source": [
    "from sklearn.datasets import load_breast_cancer\n",
    "import numpy as np\n",
    "from sklearn.linear_model import LogisticRegression\n",
    "from sklearn.model_selection import train_test_split\n",
    "import matplotlib.pyplot as plt"
   ]
  },
  {
   "cell_type": "markdown",
   "metadata": {},
   "source": [
    "# Loading datasets"
   ]
  },
  {
   "cell_type": "code",
   "execution_count": 2,
   "metadata": {},
   "outputs": [],
   "source": [
    "X,y = load_breast_cancer(return_X_y=True)"
   ]
  },
  {
   "cell_type": "code",
   "execution_count": 3,
   "metadata": {},
   "outputs": [
    {
     "name": "stdout",
     "output_type": "stream",
     "text": [
      "121 67\n"
     ]
    }
   ],
   "source": [
    "X_train, X_test, y_train, y_test = train_test_split(X, y, test_size=0.33, random_state=42)\n",
    "Pos = sum(y_test == 1)\n",
    "Neg = sum(y_test == 0)\n",
    "\n",
    "print(Pos, Neg)"
   ]
  },
  {
   "cell_type": "markdown",
   "metadata": {},
   "source": [
    "# Fitting the data"
   ]
  },
  {
   "cell_type": "markdown",
   "metadata": {},
   "source": [
    "Fit the data using the `LogisticRegression` classifier"
   ]
  },
  {
   "cell_type": "code",
   "execution_count": 4,
   "metadata": {},
   "outputs": [
    {
     "name": "stderr",
     "output_type": "stream",
     "text": [
      "/Library/Frameworks/Python.framework/Versions/3.9/lib/python3.9/site-packages/sklearn/linear_model/_logistic.py:814: ConvergenceWarning: lbfgs failed to converge (status=1):\n",
      "STOP: TOTAL NO. of ITERATIONS REACHED LIMIT.\n",
      "\n",
      "Increase the number of iterations (max_iter) or scale the data as shown in:\n",
      "    https://scikit-learn.org/stable/modules/preprocessing.html\n",
      "Please also refer to the documentation for alternative solver options:\n",
      "    https://scikit-learn.org/stable/modules/linear_model.html#logistic-regression\n",
      "  n_iter_i = _check_optimize_result(\n"
     ]
    },
    {
     "data": {
      "text/plain": [
       "LogisticRegression()"
      ]
     },
     "execution_count": 4,
     "metadata": {},
     "output_type": "execute_result"
    }
   ],
   "source": [
    "lr = LogisticRegression()\n",
    "lr.fit(X_train, y_train)"
   ]
  },
  {
   "cell_type": "markdown",
   "metadata": {},
   "source": [
    "# Making predictions"
   ]
  },
  {
   "cell_type": "code",
   "execution_count": 5,
   "metadata": {},
   "outputs": [],
   "source": [
    "scores = lr.predict_proba(X_test)[:,1]"
   ]
  },
  {
   "cell_type": "markdown",
   "metadata": {},
   "source": [
    "# Functions for evaluating fp,tp and accuracy"
   ]
  },
  {
   "cell_type": "code",
   "execution_count": 6,
   "metadata": {},
   "outputs": [],
   "source": [
    "# Define the function to calculate the false positive and true positive\n",
    "def eval_fp_tp(actual, predicted):\n",
    "    tp = np.logical_and(predicted, actual)\n",
    "    fp = np.logical_and(predicted, np.logical_not(actual))\n",
    "    return (sum(fp), sum(tp))"
   ]
  },
  {
   "cell_type": "code",
   "execution_count": 7,
   "metadata": {},
   "outputs": [],
   "source": [
    "# Define the function to calculate the accuracy\n",
    "def eval_accuracy(actual, predicted):\n",
    "    fp, tp = eval_fp_tp(actual, predicted)\n",
    "    return (tp + (Neg - fp)) / len(actual)"
   ]
  },
  {
   "cell_type": "markdown",
   "metadata": {},
   "source": [
    "# fp,tp and accuracy evaluations for different thresholds\n",
    "\n",
    "Given the scores for the test cases, we might want to find the best possible threshold for classification, i.e., the real value $t$ such that `scores >` $t$ gives the best classifiation of the examples. \n",
    "\n",
    "Let us then start to consider 100 possible thresholds in the range $[0,1]$:"
   ]
  },
  {
   "cell_type": "code",
   "execution_count": 8,
   "metadata": {},
   "outputs": [],
   "source": [
    "thresholds = [i/100.0 for i in range(0,100)]"
   ]
  },
  {
   "cell_type": "markdown",
   "metadata": {},
   "source": [
    "and compute the tp, fp, and accuracy values of the labelings obtained by comparing the scores with those thresholds."
   ]
  },
  {
   "cell_type": "code",
   "execution_count": 9,
   "metadata": {},
   "outputs": [],
   "source": [
    "# and compute the tp, fp, and accuracy values of the labelings obtained \n",
    "# by comparing the scores with those thresholds.\n",
    "# The output should be a list of tuples, one for each threshold. Each tuple should contain the following:\n",
    "# (accuracy, threshold, false positive, true positive)\n",
    "\n",
    "actual = y_test\n",
    "performances = []\n",
    "fps, tps = [], []\n",
    "for threshold in thresholds:\n",
    "    predicted_pos = scores > threshold\n",
    "    fp, tp = eval_fp_tp(actual, predicted_pos)\n",
    "    fps.append(fp)\n",
    "    tps.append(tp)\n",
    "\n",
    "    accuracy = eval_accuracy(actual, predicted_pos)\n",
    "    performances.append((accuracy, threshold, fp, tp))\n",
    "\n",
    "performances = np.array(performances)\n"
   ]
  },
  {
   "cell_type": "markdown",
   "metadata": {},
   "source": [
    "# Plotting\n",
    "\n",
    "Let us then start plotting the coverage plot for the obtained classifications."
   ]
  },
  {
   "cell_type": "code",
   "execution_count": 10,
   "metadata": {},
   "outputs": [
    {
     "data": {
      "text/plain": [
       "[<matplotlib.lines.Line2D at 0x7f7bdca2d5b0>]"
      ]
     },
     "execution_count": 10,
     "metadata": {},
     "output_type": "execute_result"
    },
    {
     "data": {
      "image/png": "[encoded data removed]",
      "text/plain": [
       "<Figure size 432x288 with 1 Axes>"
      ]
     },
     "metadata": {
      "needs_background": "light"
     },
     "output_type": "display_data"
    }
   ],
   "source": [
    "plt.plot(fps, tps)"
   ]
  },
  {
   "cell_type": "markdown",
   "metadata": {},
   "source": [
    "# Checking performances for threshold 0.5\n",
    "\n",
    "The predict_proba method we used to get the score returns the probability that examples belong to the positive class. Usually the positive class is then predicted as score > 0.5 (since in this case it is the one with the largest likelihood).\n",
    "\n",
    "Let's then see where this classifier (i.e., the one obtained setting the threshold to 0.5) lays in the coverage plot and if there are better options.\n",
    "\n",
    "**note**: since we saved interesting stats in the `performances` array, we can retrieve the fp, tp position of the classifier we get by setting the thresholds to 0.5, by finding the position of the row we are interested using the expression: `performances[:,1] == 0.5` and then using the resulting boolean vector to retrieve the correct row of the matrix: `performances[performances[:,1] == 0.5]`.\n",
    "```"
   ]
  },
  {
   "cell_type": "code",
   "execution_count": 11,
   "metadata": {},
   "outputs": [
    {
     "data": {
      "text/plain": [
       "[<matplotlib.lines.Line2D at 0x7f7bdcb44880>]"
      ]
     },
     "execution_count": 11,
     "metadata": {},
     "output_type": "execute_result"
    },
    {
     "data": {
      "image/png": "[encoded data removed]",
      "text/plain": [
       "<Figure size 432x288 with 1 Axes>"
      ]
     },
     "metadata": {
      "needs_background": "light"
     },
     "output_type": "display_data"
    }
   ],
   "source": [
    "plt.plot(fps, tps)\n",
    "accuracy, threshold, fp, tp = performances[performances[:,1] == 0.5][0]\n",
    "plt.scatter(fp,tp,color='red')\n",
    "plt.plot([fp-10,fp+10],[tp-10,tp+10], color=\"red\")"
   ]
  },
  {
   "cell_type": "markdown",
   "metadata": {},
   "source": [
    "As it is shown by the red dot and the red line, threshold 0.5 is a good one, but apparently two other points can reach a better classification.\n",
    "\n",
    "Let us see where these point lay in the plot and what is their accuracy."
   ]
  },
  {
   "cell_type": "code",
   "execution_count": 12,
   "metadata": {},
   "outputs": [
    {
     "data": {
      "text/plain": [
       "array([[9.62765957e-01, 9.00000000e-02, 7.00000000e+00, 1.21000000e+02],\n",
       "       [9.62765957e-01, 1.00000000e-01, 7.00000000e+00, 1.21000000e+02],\n",
       "       [9.62765957e-01, 1.10000000e-01, 6.00000000e+00, 1.20000000e+02],\n",
       "       [9.62765957e-01, 2.20000000e-01, 5.00000000e+00, 1.19000000e+02],\n",
       "       [9.62765957e-01, 2.30000000e-01, 5.00000000e+00, 1.19000000e+02],\n",
       "       [9.62765957e-01, 2.40000000e-01, 5.00000000e+00, 1.19000000e+02],\n",
       "       [9.62765957e-01, 2.50000000e-01, 5.00000000e+00, 1.19000000e+02],\n",
       "       [9.62765957e-01, 2.60000000e-01, 5.00000000e+00, 1.19000000e+02],\n",
       "       [9.62765957e-01, 2.70000000e-01, 5.00000000e+00, 1.19000000e+02],\n",
       "       [9.62765957e-01, 2.80000000e-01, 5.00000000e+00, 1.19000000e+02],\n",
       "       [9.62765957e-01, 2.90000000e-01, 5.00000000e+00, 1.19000000e+02],\n",
       "       [9.62765957e-01, 6.60000000e-01, 2.00000000e+00, 1.16000000e+02],\n",
       "       [9.62765957e-01, 6.70000000e-01, 2.00000000e+00, 1.16000000e+02],\n",
       "       [9.62765957e-01, 6.80000000e-01, 2.00000000e+00, 1.16000000e+02],\n",
       "       [9.62765957e-01, 6.90000000e-01, 2.00000000e+00, 1.16000000e+02],\n",
       "       [9.62765957e-01, 7.00000000e-01, 2.00000000e+00, 1.16000000e+02],\n",
       "       [9.62765957e-01, 7.10000000e-01, 2.00000000e+00, 1.16000000e+02],\n",
       "       [9.62765957e-01, 7.20000000e-01, 2.00000000e+00, 1.16000000e+02],\n",
       "       [9.62765957e-01, 7.30000000e-01, 2.00000000e+00, 1.16000000e+02],\n",
       "       [9.62765957e-01, 7.40000000e-01, 2.00000000e+00, 1.16000000e+02],\n",
       "       [9.68085106e-01, 7.50000000e-01, 1.00000000e+00, 1.16000000e+02],\n",
       "       [9.68085106e-01, 7.60000000e-01, 1.00000000e+00, 1.16000000e+02],\n",
       "       [9.68085106e-01, 7.70000000e-01, 1.00000000e+00, 1.16000000e+02],\n",
       "       [9.68085106e-01, 7.80000000e-01, 1.00000000e+00, 1.16000000e+02],\n",
       "       [9.68085106e-01, 7.90000000e-01, 1.00000000e+00, 1.16000000e+02],\n",
       "       [9.62765957e-01, 8.00000000e-01, 1.00000000e+00, 1.15000000e+02],\n",
       "       [9.62765957e-01, 8.10000000e-01, 1.00000000e+00, 1.15000000e+02],\n",
       "       [9.62765957e-01, 8.20000000e-01, 1.00000000e+00, 1.15000000e+02],\n",
       "       [9.62765957e-01, 8.30000000e-01, 1.00000000e+00, 1.15000000e+02]])"
      ]
     },
     "execution_count": 12,
     "metadata": {},
     "output_type": "execute_result"
    }
   ],
   "source": [
    "# Note: the subscription returns a matrix with a single row, but still two dimensions, \n",
    "# we need to get the element in the first position of that matrix...\n",
    "\n",
    "perf05 = performances[performances[:, 1] == 0.5][0,0] \n",
    "performances[performances[:,0] > perf05]"
   ]
  },
  {
   "cell_type": "markdown",
   "metadata": {},
   "source": [
    "The points that we are looking for are then in position (7,121), (6,120), (5,119), (2,116), (1,116) and (1,115)"
   ]
  },
  {
   "cell_type": "code",
   "execution_count": 16,
   "metadata": {},
   "outputs": [
    {
     "data": {
      "text/plain": [
       "[<matplotlib.lines.Line2D at 0x7f7bdd0084c0>]"
      ]
     },
     "execution_count": 16,
     "metadata": {},
     "output_type": "execute_result"
    },
    {
     "data": {
      "image/png": "[encoded data removed]",
      "text/plain": [
       "<Figure size 432x288 with 1 Axes>"
      ]
     },
     "metadata": {
      "needs_background": "light"
     },
     "output_type": "display_data"
    }
   ],
   "source": [
    "plt.plot(fps, tps)\n",
    "fp, tp = eval_fp_tp(actual, scores > 0.5)\n",
    "plt.scatter(fp,tp, color=\"red\")\n",
    "plt.scatter(7,121, color=\"orange\")\n",
    "plt.scatter(6,120, color=\"orange\")\n",
    "plt.scatter(5,119, color=\"orange\")\n",
    "plt.scatter(2,116, color=\"orange\")\n",
    "plt.scatter(1,116, color=\"orange\")\n",
    "plt.scatter(1,115, color=\"orange\")\n",
    "plt.plot([fp-10,fp+10],[tp-10,tp+10], color=\"red\")"
   ]
  },
  {
   "cell_type": "markdown",
   "metadata": {},
   "source": [
    "These points (that we found by looking only to the accuracies) are indeed the two points that the plot show having a better accuracy. "
   ]
  }
 ],
 "metadata": {
  "kernelspec": {
   "display_name": "Python 3.9.1 64-bit",
   "language": "python",
   "name": "python3"
  },
  "language_info": {
   "codemirror_mode": {
    "name": "ipython",
    "version": 3
   },
   "file_extension": ".py",
   "mimetype": "text/x-python",
   "name": "python",
   "nbconvert_exporter": "python",
   "pygments_lexer": "ipython3",
   "version": "3.9.1"
  },
  "orig_nbformat": 2,
  "vscode": {
   "interpreter": {
    "hash": "aee8b7b246df8f9039afb4144a1f6fd8d2ca17a180786b69acc140d282b71a49"
   }
  }
 },
 "nbformat": 4,
 "nbformat_minor": 2
}
