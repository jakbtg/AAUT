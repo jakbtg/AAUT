{
 "cells": [
  {
   "cell_type": "code",
   "execution_count": 1,
   "metadata": {},
   "outputs": [],
   "source": [
    "import numpy as np\n",
    "import time\n",
    "import math"
   ]
  },
  {
   "cell_type": "markdown",
   "metadata": {},
   "source": [
    "# Vector operations"
   ]
  },
  {
   "cell_type": "code",
   "execution_count": 2,
   "metadata": {},
   "outputs": [],
   "source": [
    "SIZE = int(1e6)\n",
    "x = np.random.uniform(size=SIZE)\n",
    "y = np.random.uniform(size=SIZE)"
   ]
  },
  {
   "cell_type": "markdown",
   "metadata": {},
   "source": [
    "# Dot products"
   ]
  },
  {
   "cell_type": "code",
   "execution_count": 3,
   "metadata": {},
   "outputs": [],
   "source": [
    "def dot_product(x, y):\n",
    "    result = 0\n",
    "    for i in range(len(x)):\n",
    "        result += x[i] * y[i]\n",
    "    return result\n"
   ]
  },
  {
   "cell_type": "code",
   "execution_count": 4,
   "metadata": {},
   "outputs": [
    {
     "name": "stdout",
     "output_type": "stream",
     "text": [
      "x * y = 250261.5410458084 in 0.2637770175933838 seconds\n"
     ]
    }
   ],
   "source": [
    "start = time.time()\n",
    "result = dot_product(x, y)\n",
    "end = time.time()\n",
    "\n",
    "print(\"x * y = {} in {} seconds\".format(result, end - start))"
   ]
  },
  {
   "cell_type": "code",
   "execution_count": 5,
   "metadata": {},
   "outputs": [
    {
     "name": "stdout",
     "output_type": "stream",
     "text": [
      "x * y = 250261.5410458058 in 0.000865936279296875 seconds\n"
     ]
    }
   ],
   "source": [
    "start = time.time()\n",
    "result = np.dot(x, y)\n",
    "end = time.time()\n",
    "\n",
    "print(\"x * y = {} in {} seconds\".format(result, end - start))"
   ]
  },
  {
   "cell_type": "markdown",
   "metadata": {},
   "source": [
    "# Evaluate $\\| x - y \\|_2$"
   ]
  },
  {
   "cell_type": "code",
   "execution_count": 6,
   "metadata": {},
   "outputs": [],
   "source": [
    "def norm(x, y):\n",
    "    return math.sqrt(sum((xi - yi)**2 for xi, yi in zip(x, y)))"
   ]
  },
  {
   "cell_type": "code",
   "execution_count": 7,
   "metadata": {},
   "outputs": [
    {
     "name": "stdout",
     "output_type": "stream",
     "text": [
      "norm(x, y) = 408.0691855368979 in 0.45153212547302246 seconds\n"
     ]
    }
   ],
   "source": [
    "start = time.time()\n",
    "result = norm(x, y)\n",
    "end = time.time()\n",
    "\n",
    "print(\"norm(x, y) = {} in {} seconds\".format(result, end - start))"
   ]
  },
  {
   "cell_type": "code",
   "execution_count": 8,
   "metadata": {},
   "outputs": [
    {
     "name": "stdout",
     "output_type": "stream",
     "text": [
      "norm(x, y) = 408.06918553689354 in 0.005403041839599609 seconds\n"
     ]
    }
   ],
   "source": [
    "start = time.time()\n",
    "result = np.linalg.norm(x - y)\n",
    "end = time.time()\n",
    "\n",
    "print(\"norm(x, y) = {} in {} seconds\".format(result, end - start))"
   ]
  },
  {
   "cell_type": "markdown",
   "metadata": {},
   "source": [
    "# Matrix multiplication"
   ]
  },
  {
   "cell_type": "code",
   "execution_count": 9,
   "metadata": {},
   "outputs": [],
   "source": [
    "N, M = 300, 300\n",
    "mat1 = np.random.uniform(size=(N, M))\n",
    "mat2 = np.random.uniform(size=(M, N))"
   ]
  },
  {
   "cell_type": "code",
   "execution_count": 14,
   "metadata": {},
   "outputs": [],
   "source": [
    "def mdot(mat1, mat2, mat1_rows, i, j):\n",
    "    result = 0.0\n",
    "    for k in range(mat1_rows):\n",
    "        result += mat1[i, k] * mat2[k, j]\n",
    "    return result"
   ]
  },
  {
   "cell_type": "code",
   "execution_count": 15,
   "metadata": {},
   "outputs": [
    {
     "name": "stdout",
     "output_type": "stream",
     "text": [
      "M1 * M2 = [[77.45275438 75.37271122 80.47863795 ... 74.75124154 73.22015889\n",
      "  78.05869979]\n",
      " [76.67248231 73.64100956 79.08596918 ... 75.49156358 76.14307228\n",
      "  79.34699862]\n",
      " [78.93420716 75.99625824 76.97591379 ... 73.31050913 73.05965198\n",
      "  78.54168462]\n",
      " ...\n",
      " [70.27780191 71.53064125 75.16978867 ... 70.79184068 72.19229386\n",
      "  73.27555877]\n",
      " [75.71271017 76.92412696 78.63792288 ... 75.52851056 75.42354016\n",
      "  77.8756729 ]\n",
      " [74.4997894  74.70874205 78.93831869 ... 73.88110927 70.73160674\n",
      "  76.18547755]] in 9.605853080749512 seconds\n"
     ]
    }
   ],
   "source": [
    "start = time.time()\n",
    "res = np.zeros((N, N))\n",
    "for i in range(N):\n",
    "    for j in range(N):\n",
    "        res[i, j] = mdot(mat1, mat2, M, i, j)\n",
    "end = time.time()\n",
    "\n",
    "print(\"M1 * M2 = {} in {} seconds\".format(res, end - start))"
   ]
  },
  {
   "cell_type": "code",
   "execution_count": 16,
   "metadata": {},
   "outputs": [
    {
     "name": "stdout",
     "output_type": "stream",
     "text": [
      "M1 * M2 = [[77.45275438 75.37271122 80.47863795 ... 74.75124154 73.22015889\n",
      "  78.05869979]\n",
      " [76.67248231 73.64100956 79.08596918 ... 75.49156358 76.14307228\n",
      "  79.34699862]\n",
      " [78.93420716 75.99625824 76.97591379 ... 73.31050913 73.05965198\n",
      "  78.54168462]\n",
      " ...\n",
      " [70.27780191 71.53064125 75.16978867 ... 70.79184068 72.19229386\n",
      "  73.27555877]\n",
      " [75.71271017 76.92412696 78.63792288 ... 75.52851056 75.42354016\n",
      "  77.8756729 ]\n",
      " [74.4997894  74.70874205 78.93831869 ... 73.88110927 70.73160674\n",
      "  76.18547755]] in 0.0010399818420410156 seconds\n"
     ]
    }
   ],
   "source": [
    "start = time.time()\n",
    "res = np.matmul(mat1, mat2)\n",
    "end = time.time()\n",
    "\n",
    "print(\"M1 * M2 = {} in {} seconds\".format(res, end - start))"
   ]
  }
 ],
 "metadata": {
  "kernelspec": {
   "display_name": "Python 3.9.1 64-bit",
   "language": "python",
   "name": "python3"
  },
  "language_info": {
   "codemirror_mode": {
    "name": "ipython",
    "version": 3
   },
   "file_extension": ".py",
   "mimetype": "text/x-python",
   "name": "python",
   "nbconvert_exporter": "python",
   "pygments_lexer": "ipython3",
   "version": "3.9.1"
  },
  "orig_nbformat": 4,
  "vscode": {
   "interpreter": {
    "hash": "aee8b7b246df8f9039afb4144a1f6fd8d2ca17a180786b69acc140d282b71a49"
   }
  }
 },
 "nbformat": 4,
 "nbformat_minor": 2
}
