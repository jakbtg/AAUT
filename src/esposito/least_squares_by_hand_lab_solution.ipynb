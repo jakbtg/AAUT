{
 "cells": [
  {
   "cell_type": "code",
   "execution_count": 1,
   "metadata": {},
   "outputs": [],
   "source": [
    "import numpy as np\n",
    "import matplotlib.pyplot as plt\n",
    "from sklearn.preprocessing import PolynomialFeatures"
   ]
  },
  {
   "cell_type": "markdown",
   "metadata": {},
   "source": [
    "# Creating the dataset\n",
    "\n",
    "Let us start by creating a dataset representing a noisy cubic polynomial with equation $-0.2 x^3 + \\mu$, where $\\mu \\sim \\mathcal{N}(0, 4)$"
   ]
  },
  {
   "cell_type": "code",
   "execution_count": 2,
   "metadata": {},
   "outputs": [],
   "source": [
    "np.random.seed(42)\n",
    "X = (np.random.rand(100,1) - 0.5) * 10\n",
    "y = -0.2 * X**3 + np.random.normal(loc=0, scale=2, size=[100,1])"
   ]
  },
  {
   "cell_type": "markdown",
   "metadata": {},
   "source": [
    "Let's plot it"
   ]
  },
  {
   "cell_type": "code",
   "execution_count": 3,
   "metadata": {},
   "outputs": [
    {
     "data": {
      "text/plain": [
       "<matplotlib.collections.PathCollection at 0x13d63bcd0>"
      ]
     },
     "execution_count": 3,
     "metadata": {},
     "output_type": "execute_result"
    },
    {
     "data": {
      "image/png": "[encoded data removed]",
      "text/plain": [
       "<Figure size 432x288 with 1 Axes>"
      ]
     },
     "metadata": {
      "needs_background": "light"
     },
     "output_type": "display_data"
    }
   ],
   "source": [
    "plt.scatter(X,y)"
   ]
  },
  {
   "cell_type": "markdown",
   "metadata": {},
   "source": [
    "We need the data to be in homogeneous coordinates..."
   ]
  },
  {
   "cell_type": "code",
   "execution_count": 5,
   "metadata": {},
   "outputs": [],
   "source": [
    "XX = np.column_stack([X, np.ones(shape=[len(X), 1])])\n"
   ]
  },
  {
   "cell_type": "markdown",
   "metadata": {},
   "source": [
    "# Define the least square \"solver\""
   ]
  },
  {
   "cell_type": "markdown",
   "metadata": {},
   "source": [
    "$w = (X^T X)^{-1} X^T y$"
   ]
  },
  {
   "cell_type": "code",
   "execution_count": 14,
   "metadata": {},
   "outputs": [],
   "source": [
    "def least_squares(X,y):\n",
    "    return np.linalg.inv(X.T @ X) @ X.T @ y "
   ]
  },
  {
   "cell_type": "markdown",
   "metadata": {},
   "source": [
    "Apply it to our data"
   ]
  },
  {
   "cell_type": "code",
   "execution_count": 7,
   "metadata": {},
   "outputs": [],
   "source": [
    "ww = least_squares(XX, y)"
   ]
  },
  {
   "cell_type": "code",
   "execution_count": 8,
   "metadata": {},
   "outputs": [
    {
     "data": {
      "text/plain": [
       "array([[-3.10224715],\n",
       "       [ 0.06642012]])"
      ]
     },
     "execution_count": 8,
     "metadata": {},
     "output_type": "execute_result"
    }
   ],
   "source": [
    "ww"
   ]
  },
  {
   "cell_type": "markdown",
   "metadata": {},
   "source": [
    "It's time to plot results, let start by generating new points in the interval $[-5,5]$ and compute the $y$ using the solution found by least squares."
   ]
  },
  {
   "cell_type": "code",
   "execution_count": 9,
   "metadata": {},
   "outputs": [],
   "source": [
    "xs = np.linspace(-5, 5)\n",
    "ys = ww[0] * xs + ww[1]"
   ]
  },
  {
   "cell_type": "code",
   "execution_count": 10,
   "metadata": {},
   "outputs": [
    {
     "data": {
      "text/plain": [
       "[<matplotlib.lines.Line2D at 0x13d943100>]"
      ]
     },
     "execution_count": 10,
     "metadata": {},
     "output_type": "execute_result"
    },
    {
     "data": {
      "image/png": "[encoded data removed]",
      "text/plain": [
       "<Figure size 432x288 with 1 Axes>"
      ]
     },
     "metadata": {
      "needs_background": "light"
     },
     "output_type": "display_data"
    }
   ],
   "source": [
    "plt.scatter(X,y)\n",
    "plt.plot(xs, ys, c='r', lw=2)\n"
   ]
  },
  {
   "cell_type": "markdown",
   "metadata": {},
   "source": [
    "# Solving a non-linear problem using the \"slow\" kernel trick\n",
    "\n",
    "We will use the sklearn PolynomialFeatures class to preprocess our data mapping them into a \"polynomial space\". We will need a space able to represent all polynomials of degree 3."
   ]
  },
  {
   "cell_type": "code",
   "execution_count": 11,
   "metadata": {},
   "outputs": [],
   "source": [
    "polyfeatures = PolynomialFeatures(degree=3, include_bias=True)\n",
    "polyX = polyfeatures.fit_transform(X)"
   ]
  },
  {
   "cell_type": "code",
   "execution_count": 23,
   "metadata": {},
   "outputs": [
    {
     "data": {
      "text/plain": [
       "array([[-5.        ],\n",
       "       [-4.79591837],\n",
       "       [-4.59183673],\n",
       "       [-4.3877551 ],\n",
       "       [-4.18367347],\n",
       "       [-3.97959184],\n",
       "       [-3.7755102 ],\n",
       "       [-3.57142857],\n",
       "       [-3.36734694],\n",
       "       [-3.16326531],\n",
       "       [-2.95918367],\n",
       "       [-2.75510204],\n",
       "       [-2.55102041],\n",
       "       [-2.34693878],\n",
       "       [-2.14285714],\n",
       "       [-1.93877551],\n",
       "       [-1.73469388],\n",
       "       [-1.53061224],\n",
       "       [-1.32653061],\n",
       "       [-1.12244898],\n",
       "       [-0.91836735],\n",
       "       [-0.71428571],\n",
       "       [-0.51020408],\n",
       "       [-0.30612245],\n",
       "       [-0.10204082],\n",
       "       [ 0.10204082],\n",
       "       [ 0.30612245],\n",
       "       [ 0.51020408],\n",
       "       [ 0.71428571],\n",
       "       [ 0.91836735],\n",
       "       [ 1.12244898],\n",
       "       [ 1.32653061],\n",
       "       [ 1.53061224],\n",
       "       [ 1.73469388],\n",
       "       [ 1.93877551],\n",
       "       [ 2.14285714],\n",
       "       [ 2.34693878],\n",
       "       [ 2.55102041],\n",
       "       [ 2.75510204],\n",
       "       [ 2.95918367],\n",
       "       [ 3.16326531],\n",
       "       [ 3.36734694],\n",
       "       [ 3.57142857],\n",
       "       [ 3.7755102 ],\n",
       "       [ 3.97959184],\n",
       "       [ 4.18367347],\n",
       "       [ 4.3877551 ],\n",
       "       [ 4.59183673],\n",
       "       [ 4.79591837],\n",
       "       [ 5.        ]])"
      ]
     },
     "execution_count": 23,
     "metadata": {},
     "output_type": "execute_result"
    }
   ],
   "source": [
    "xs.reshape(-1,1)"
   ]
  },
  {
   "cell_type": "markdown",
   "metadata": {},
   "source": [
    "Now we can use our `least_squares` solver to find a solution in the transformed space..."
   ]
  },
  {
   "cell_type": "code",
   "execution_count": 15,
   "metadata": {},
   "outputs": [],
   "source": [
    "polyww = least_squares(polyX, y)\n"
   ]
  },
  {
   "cell_type": "markdown",
   "metadata": {},
   "source": [
    "Generate new data to plot the solution (again, using `linspace` to generate points in the interval $[-5,5]$)."
   ]
  },
  {
   "cell_type": "code",
   "execution_count": 25,
   "metadata": {},
   "outputs": [],
   "source": [
    "xs = np.linspace(-5, 5, 100).reshape(-1,1)\n",
    "polyxs = polyfeatures.transform(xs)\n",
    "polyys = polyxs @ polyww\n"
   ]
  },
  {
   "cell_type": "markdown",
   "metadata": {},
   "source": [
    "We can now plot the data and our solution"
   ]
  },
  {
   "cell_type": "code",
   "execution_count": 26,
   "metadata": {},
   "outputs": [
    {
     "data": {
      "text/plain": [
       "[<matplotlib.lines.Line2D at 0x13d9b28b0>]"
      ]
     },
     "execution_count": 26,
     "metadata": {},
     "output_type": "execute_result"
    },
    {
     "data": {
      "image/png": "[encoded data removed]",
      "text/plain": [
       "<Figure size 432x288 with 1 Axes>"
      ]
     },
     "metadata": {
      "needs_background": "light"
     },
     "output_type": "display_data"
    }
   ],
   "source": [
    "plt.scatter(X,y)\n",
    "plt.plot(xs, polyys, c='r',lw=2)"
   ]
  },
  {
   "cell_type": "markdown",
   "metadata": {},
   "source": [
    "# This kernel trick is slow!"
   ]
  },
  {
   "cell_type": "code",
   "execution_count": 30,
   "metadata": {},
   "outputs": [
    {
     "name": "stdout",
     "output_type": "stream",
     "text": [
      "1 \t Num features         14 Time 0.4378s\n",
      "2 \t Num features        105 Time 0.0005s\n",
      "3 \t Num features        560 Time 0.0018s\n",
      "4 \t Num features       2380 Time 0.0020s\n",
      "5 \t Num features       8568 Time 0.0052s\n",
      "6 \t Num features      27132 Time 0.0070s\n",
      "7 \t Num features      77520 Time 0.0157s\n",
      "8 \t Num features     203490 Time 0.0416s\n",
      "9 \t Num features     497420 Time 0.0879s\n",
      "10 \t Num features    1144066 Time 0.4450s\n",
      "11 \t Num features    2496144 Time 0.9228s\n",
      "12 \t Num features    5200300 Time 1.9025s\n",
      "13 \t Num features   10400600 Time 3.9082s\n"
     ]
    }
   ],
   "source": [
    "import time\n",
    "\n",
    "X = np.random.rand(100, 13)\n",
    "results_degrees = []\n",
    "results_time = []\n",
    "\n",
    "for i in range(13):\n",
    "    poly = PolynomialFeatures(degree=i+1)\n",
    "    \n",
    "    start = time.time()\n",
    "    polyX = poly.fit_transform(X)\n",
    "    end = time.time()\n",
    "\n",
    "    results_degrees.append(i+1)\n",
    "    results_time.append(end-start)\n",
    "\n",
    "    print(\"{} \\t Num features {:10d} Time {:2.4f}s\".format(i+1, polyX.shape[1], end-start))\n"
   ]
  },
  {
   "cell_type": "code",
   "execution_count": 31,
   "metadata": {},
   "outputs": [
    {
     "data": {
      "text/plain": [
       "[<matplotlib.lines.Line2D at 0x13dbc92b0>]"
      ]
     },
     "execution_count": 31,
     "metadata": {},
     "output_type": "execute_result"
    },
    {
     "data": {
      "image/png": "[encoded data removed]",
      "text/plain": [
       "<Figure size 432x288 with 1 Axes>"
      ]
     },
     "metadata": {
      "needs_background": "light"
     },
     "output_type": "display_data"
    }
   ],
   "source": [
    "import matplotlib.pyplot as plt\n",
    "\n",
    "plt.plot(results_degrees, results_time)"
   ]
  },
  {
   "cell_type": "code",
   "execution_count": null,
   "metadata": {},
   "outputs": [],
   "source": []
  }
 ],
 "metadata": {
  "interpreter": {
   "hash": "31f2aee4e71d21fbe5cf8b01ff0e069b9275f58929596ceb00d14d90e3e16cd6"
  },
  "kernelspec": {
   "display_name": "Python 3.8.9 64-bit",
   "language": "python",
   "name": "python3"
  },
  "language_info": {
   "codemirror_mode": {
    "name": "ipython",
    "version": 3
   },
   "file_extension": ".py",
   "mimetype": "text/x-python",
   "name": "python",
   "nbconvert_exporter": "python",
   "pygments_lexer": "ipython3",
   "version": "3.9.1"
  },
  "orig_nbformat": 4
 },
 "nbformat": 4,
 "nbformat_minor": 2
}
