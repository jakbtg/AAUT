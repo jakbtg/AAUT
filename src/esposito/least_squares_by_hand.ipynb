{
 "cells": [
  {
   "cell_type": "code",
   "execution_count": 1,
   "metadata": {},
   "outputs": [],
   "source": [
    "import numpy as np\n",
    "import matplotlib.pyplot as plt\n",
    "from sklearn.preprocessing import PolynomialFeatures"
   ]
  },
  {
   "cell_type": "markdown",
   "metadata": {},
   "source": [
    "# Creating the dataset\n",
    "\n",
    "Let us start by creating a dataset representing a noisy cubic polynomial with equation $-0.2 x^3 + \\mu$, where $\\mu \\sim \\mathcal{N}(0, 2)$"
   ]
  },
  {
   "cell_type": "code",
   "execution_count": 2,
   "metadata": {},
   "outputs": [],
   "source": [
    "np.random.seed(42)\n",
    "X = (np.random.rand(100,1) - 0.5) * 10\n",
    "y = -0.2 * X**3 + np.random.normal(loc=0, scale=2, size=[100,1])"
   ]
  },
  {
   "cell_type": "markdown",
   "metadata": {},
   "source": [
    "Let's plot it"
   ]
  },
  {
   "cell_type": "code",
   "execution_count": 3,
   "metadata": {},
   "outputs": [
    {
     "data": {
      "text/plain": [
       "<matplotlib.collections.PathCollection at 0x7fbb677a4490>"
      ]
     },
     "execution_count": 3,
     "metadata": {},
     "output_type": "execute_result"
    },
    {
     "data": {
      "image/png": "[encoded data removed]",
      "text/plain": [
       "<Figure size 432x288 with 1 Axes>"
      ]
     },
     "metadata": {
      "needs_background": "light"
     },
     "output_type": "display_data"
    }
   ],
   "source": [
    "plt.scatter(X,y)"
   ]
  },
  {
   "cell_type": "markdown",
   "metadata": {},
   "source": [
    "We need the data to be in homogeneous coordinates..."
   ]
  },
  {
   "cell_type": "code",
   "execution_count": 6,
   "metadata": {},
   "outputs": [
    {
     "data": {
      "text/plain": [
       "array([[-1.25459881,  1.        ],\n",
       "       [ 4.50714306,  1.        ],\n",
       "       [ 2.31993942,  1.        ],\n",
       "       [ 0.98658484,  1.        ],\n",
       "       [-3.4398136 ,  1.        ],\n",
       "       [-3.4400548 ,  1.        ],\n",
       "       [-4.41916388,  1.        ],\n",
       "       [ 3.66176146,  1.        ],\n",
       "       [ 1.01115012,  1.        ],\n",
       "       [ 2.08072578,  1.        ],\n",
       "       [-4.79415506,  1.        ],\n",
       "       [ 4.69909852,  1.        ],\n",
       "       [ 3.32442641,  1.        ],\n",
       "       [-2.87660889,  1.        ],\n",
       "       [-3.18175033,  1.        ],\n",
       "       [-3.1659549 ,  1.        ],\n",
       "       [-1.95757757,  1.        ],\n",
       "       [ 0.24756432,  1.        ],\n",
       "       [-0.68054981,  1.        ],\n",
       "       [-2.0877086 ,  1.        ],\n",
       "       [ 1.11852895,  1.        ],\n",
       "       [-3.60506139,  1.        ],\n",
       "       [-2.07855351,  1.        ],\n",
       "       [-1.33638157,  1.        ],\n",
       "       [-0.43930016,  1.        ],\n",
       "       [ 2.85175961,  1.        ],\n",
       "       [-3.00326218,  1.        ],\n",
       "       [ 0.14234438,  1.        ],\n",
       "       [ 0.92414569,  1.        ],\n",
       "       [-4.53549587,  1.        ],\n",
       "       [ 1.07544852,  1.        ],\n",
       "       [-3.29475876,  1.        ],\n",
       "       [-4.34948407,  1.        ],\n",
       "       [ 4.48885537,  1.        ],\n",
       "       [ 4.65632033,  1.        ],\n",
       "       [ 3.08397348,  1.        ],\n",
       "       [-1.95386231,  1.        ],\n",
       "       [-4.02327886,  1.        ],\n",
       "       [ 1.84233027,  1.        ],\n",
       "       [-0.59847506,  1.        ],\n",
       "       [-3.77961765,  1.        ],\n",
       "       [-0.0482309 ,  1.        ],\n",
       "       [-4.65611479,  1.        ],\n",
       "       [ 4.09320402,  1.        ],\n",
       "       [-2.41220018,  1.        ],\n",
       "       [ 1.62522284,  1.        ],\n",
       "       [-1.88288924,  1.        ],\n",
       "       [ 0.20068021,  1.        ],\n",
       "       [ 0.46710279,  1.        ],\n",
       "       [-3.15145544,  1.        ],\n",
       "       [ 4.69584628,  1.        ],\n",
       "       [ 2.75132823,  1.        ],\n",
       "       [ 4.39498942,  1.        ],\n",
       "       [ 3.9482735 ,  1.        ],\n",
       "       [ 0.97899979,  1.        ],\n",
       "       [ 4.21874235,  1.        ],\n",
       "       [-4.11507498,  1.        ],\n",
       "       [-3.04017138,  1.        ],\n",
       "       [-4.54772711,  1.        ],\n",
       "       [-1.74669669,  1.        ],\n",
       "       [-1.1132271 ,  1.        ],\n",
       "       [-2.28650968,  1.        ],\n",
       "       [ 3.28737509,  1.        ],\n",
       "       [-1.43246673,  1.        ],\n",
       "       [-2.1906549 ,  1.        ],\n",
       "       [ 0.42696083,  1.        ],\n",
       "       [-3.59075775,  1.        ],\n",
       "       [ 3.02196981,  1.        ],\n",
       "       [-4.25449356,  1.        ],\n",
       "       [ 4.86886937,  1.        ],\n",
       "       [ 2.72244769,  1.        ],\n",
       "       [-3.01284318,  1.        ],\n",
       "       [-4.94477883,  1.        ],\n",
       "       [ 3.15461428,  1.        ],\n",
       "       [ 2.06857344,  1.        ],\n",
       "       [ 2.29007168,  1.        ],\n",
       "       [ 2.71270347,  1.        ],\n",
       "       [-4.25955348,  1.        ],\n",
       "       [-1.41534271,  1.        ],\n",
       "       [-3.8413094 ,  1.        ],\n",
       "       [ 3.63103426,  1.        ],\n",
       "       [ 1.23298127,  1.        ],\n",
       "       [-1.69101975,  1.        ],\n",
       "       [-4.3644165 ,  1.        ],\n",
       "       [-1.89017678,  1.        ],\n",
       "       [-1.74816678,  1.        ],\n",
       "       [ 2.29606178,  1.        ],\n",
       "       [ 1.37557471,  1.        ],\n",
       "       [ 3.87212743,  1.        ],\n",
       "       [-0.27785075,  1.        ],\n",
       "       [-3.80405754,  1.        ],\n",
       "       [ 2.13244787,  1.        ],\n",
       "       [ 2.60785049,  1.        ],\n",
       "       [ 0.61277198,  1.        ],\n",
       "       [ 2.7096718 ,  1.        ],\n",
       "       [-0.06204404,  1.        ],\n",
       "       [ 0.22732829,  1.        ],\n",
       "       [-0.72458982,  1.        ],\n",
       "       [-4.74580873,  1.        ],\n",
       "       [-3.92108573,  1.        ]])"
      ]
     },
     "execution_count": 6,
     "metadata": {},
     "output_type": "execute_result"
    }
   ],
   "source": [
    "XX = np.column_stack([X, np.ones(shape=(len(X),1))])"
   ]
  },
  {
   "cell_type": "markdown",
   "metadata": {},
   "source": [
    "# Define the least square \"solver\""
   ]
  },
  {
   "cell_type": "code",
   "execution_count": null,
   "metadata": {},
   "outputs": [],
   "source": [
    "def least_squares(X,y):\n",
    "    return ..."
   ]
  },
  {
   "cell_type": "markdown",
   "metadata": {},
   "source": [
    "Apply it to our data"
   ]
  },
  {
   "cell_type": "code",
   "execution_count": null,
   "metadata": {},
   "outputs": [],
   "source": [
    "ww = least_squares(XX, y)"
   ]
  },
  {
   "cell_type": "markdown",
   "metadata": {},
   "source": [
    "It's time to plot results, let start by generating new points in the interval $[-5,5]$ and compute the $y$ using the solution found by least squares."
   ]
  },
  {
   "cell_type": "code",
   "execution_count": null,
   "metadata": {},
   "outputs": [],
   "source": [
    "xs = np.linspace(-5, 5)\n",
    "..."
   ]
  },
  {
   "cell_type": "code",
   "execution_count": null,
   "metadata": {},
   "outputs": [],
   "source": [
    "plt.scatter(X,y)\n",
    "plt.plot(xs, ys, c='r', lw=2)\n"
   ]
  },
  {
   "cell_type": "markdown",
   "metadata": {},
   "source": [
    "# Solving a non-linear problem using the \"slow\" kernel trick\n",
    "\n",
    "We will use the sklearn PolynomialFeatures class to preprocess our data mapping them into a \"polynomial space\". We will need a space able to represent all polynomials of degree 3."
   ]
  },
  {
   "cell_type": "code",
   "execution_count": null,
   "metadata": {},
   "outputs": [],
   "source": [
    "polyfeatures = ...\n",
    "polyX = ..."
   ]
  },
  {
   "cell_type": "markdown",
   "metadata": {},
   "source": [
    "Now we can use our `least_squares` solver to find a solution in the transformed space..."
   ]
  },
  {
   "cell_type": "code",
   "execution_count": null,
   "metadata": {},
   "outputs": [],
   "source": [
    "polyww = least_squares(polyX, y)"
   ]
  },
  {
   "cell_type": "markdown",
   "metadata": {},
   "source": [
    "Generate new data to plot the solution (again, using `linspace` to generate points in the interval $[-5,5]$)."
   ]
  },
  {
   "cell_type": "code",
   "execution_count": null,
   "metadata": {},
   "outputs": [],
   "source": [
    "xs = np.linspace(-5, 5, 100).reshape(-1,1)\n",
    "...\n",
    "polyys = ..."
   ]
  },
  {
   "cell_type": "markdown",
   "metadata": {},
   "source": [
    "We can now plot the data and our solution"
   ]
  },
  {
   "cell_type": "code",
   "execution_count": null,
   "metadata": {},
   "outputs": [],
   "source": [
    "plt.scatter(X,y)\n",
    "plt.plot(xs, polyys, c='r',lw=2)"
   ]
  }
 ],
 "metadata": {
  "kernelspec": {
   "display_name": "Python 3.9.1 64-bit",
   "language": "python",
   "name": "python3"
  },
  "language_info": {
   "codemirror_mode": {
    "name": "ipython",
    "version": 3
   },
   "file_extension": ".py",
   "mimetype": "text/x-python",
   "name": "python",
   "nbconvert_exporter": "python",
   "pygments_lexer": "ipython3",
   "version": "3.9.1"
  },
  "orig_nbformat": 4,
  "vscode": {
   "interpreter": {
    "hash": "aee8b7b246df8f9039afb4144a1f6fd8d2ca17a180786b69acc140d282b71a49"
   }
  }
 },
 "nbformat": 4,
 "nbformat_minor": 2
}
