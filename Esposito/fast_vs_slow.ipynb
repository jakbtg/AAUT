{
 "cells": [
  {
   "cell_type": "code",
   "execution_count": 1,
   "metadata": {},
   "outputs": [],
   "source": [
    "import numpy as np\n",
    "import time\n",
    "import math"
   ]
  },
  {
   "cell_type": "markdown",
   "metadata": {},
   "source": [
    "# Vector operations"
   ]
  },
  {
   "cell_type": "code",
   "execution_count": 2,
   "metadata": {},
   "outputs": [],
   "source": [
    "SIZE = int(1e6)\n",
    "x = np.random.uniform(size=SIZE)\n",
    "y = np.random.uniform(size=SIZE)"
   ]
  },
  {
   "cell_type": "markdown",
   "metadata": {},
   "source": [
    "# Dot products"
   ]
  },
  {
   "cell_type": "code",
   "execution_count": 3,
   "metadata": {},
   "outputs": [],
   "source": [
    "def dot_product(x, y):\n",
    "    result = 0\n",
    "    for i in range(len(x)):\n",
    "        result += x[i] * y[i]\n",
    "    return result\n"
   ]
  },
  {
   "cell_type": "code",
   "execution_count": 4,
   "metadata": {},
   "outputs": [
    {
     "name": "stdout",
     "output_type": "stream",
     "text": [
      "x * y = 250110.67324272307 in 0.26006293296813965 seconds\n"
     ]
    }
   ],
   "source": [
    "start = time.time()\n",
    "result = dot_product(x, y)\n",
    "end = time.time()\n",
    "\n",
    "print(\"x * y = {} in {} seconds\".format(result, end - start))"
   ]
  },
  {
   "cell_type": "code",
   "execution_count": 5,
   "metadata": {},
   "outputs": [
    {
     "name": "stdout",
     "output_type": "stream",
     "text": [
      "x * y = 250110.6732427192 in 0.0007801055908203125 seconds\n"
     ]
    }
   ],
   "source": [
    "start = time.time()\n",
    "result = np.dot(x, y)\n",
    "end = time.time()\n",
    "\n",
    "print(\"x * y = {} in {} seconds\".format(result, end - start))"
   ]
  },
  {
   "cell_type": "markdown",
   "metadata": {},
   "source": [
    "# Evaluate $\\| x - y \\|_2$"
   ]
  },
  {
   "cell_type": "code",
   "execution_count": 6,
   "metadata": {},
   "outputs": [],
   "source": [
    "def norm(x, y):\n",
    "    return math.sqrt(sum((xi - yi)**2 for xi, yi in zip(x, y)))"
   ]
  },
  {
   "cell_type": "code",
   "execution_count": 7,
   "metadata": {},
   "outputs": [
    {
     "name": "stdout",
     "output_type": "stream",
     "text": [
      "norm(x, y) = 408.2970054036027 in 0.438385009765625 seconds\n"
     ]
    }
   ],
   "source": [
    "start = time.time()\n",
    "result = norm(x, y)\n",
    "end = time.time()\n",
    "\n",
    "print(\"norm(x, y) = {} in {} seconds\".format(result, end - start))"
   ]
  },
  {
   "cell_type": "code",
   "execution_count": 8,
   "metadata": {},
   "outputs": [
    {
     "name": "stdout",
     "output_type": "stream",
     "text": [
      "norm(x, y) = 408.2970054035933 in 0.004965066909790039 seconds\n"
     ]
    }
   ],
   "source": [
    "start = time.time()\n",
    "result = np.linalg.norm(x - y)\n",
    "end = time.time()\n",
    "\n",
    "print(\"norm(x, y) = {} in {} seconds\".format(result, end - start))"
   ]
  },
  {
   "cell_type": "markdown",
   "metadata": {},
   "source": [
    "# Matrix multiplication"
   ]
  },
  {
   "cell_type": "code",
   "execution_count": 9,
   "metadata": {},
   "outputs": [],
   "source": [
    "N, M = 300, 300\n",
    "mat1 = np.random.uniform(size=(N, M))\n",
    "mat2 = np.random.uniform(size=(M, N))"
   ]
  },
  {
   "cell_type": "code",
   "execution_count": 10,
   "metadata": {},
   "outputs": [],
   "source": [
    "def mdot(mat1, mat2, mat1_rows, i, j):\n",
    "    result = 0.0\n",
    "    for k in range(mat1_rows):\n",
    "        result += mat1[i, k] * mat2[k, j]\n",
    "    return result"
   ]
  },
  {
   "cell_type": "code",
   "execution_count": 11,
   "metadata": {},
   "outputs": [
    {
     "name": "stdout",
     "output_type": "stream",
     "text": [
      "M1 * M2 = [[83.76688482 75.59048543 79.67046765 ... 81.29514433 78.04301546\n",
      "  77.25001544]\n",
      " [78.60170812 71.65532686 74.09375872 ... 71.76918031 72.01882577\n",
      "  67.62505654]\n",
      " [85.43721655 77.14870539 76.74051603 ... 79.26805384 78.91616433\n",
      "  73.73068468]\n",
      " ...\n",
      " [79.31886898 71.88391882 75.39894577 ... 75.3162377  73.39209509\n",
      "  73.626181  ]\n",
      " [84.37378654 74.94766609 78.68057314 ... 79.34631007 79.69370035\n",
      "  78.07706024]\n",
      " [83.64932173 74.5189059  78.17416195 ... 76.57613851 75.71207354\n",
      "  75.28957624]] in 9.587432861328125 seconds\n"
     ]
    }
   ],
   "source": [
    "start = time.time()\n",
    "res = np.zeros((N, N))\n",
    "for i in range(N):\n",
    "    for j in range(N):\n",
    "        res[i, j] = mdot(mat1, mat2, M, i, j)\n",
    "end = time.time()\n",
    "\n",
    "print(\"M1 * M2 = {} in {} seconds\".format(res, end - start))"
   ]
  },
  {
   "cell_type": "code",
   "execution_count": 12,
   "metadata": {},
   "outputs": [
    {
     "name": "stdout",
     "output_type": "stream",
     "text": [
      "M1 * M2 = [[83.76688482 75.59048543 79.67046765 ... 81.29514433 78.04301546\n",
      "  77.25001544]\n",
      " [78.60170812 71.65532686 74.09375872 ... 71.76918031 72.01882577\n",
      "  67.62505654]\n",
      " [85.43721655 77.14870539 76.74051603 ... 79.26805384 78.91616433\n",
      "  73.73068468]\n",
      " ...\n",
      " [79.31886898 71.88391882 75.39894577 ... 75.3162377  73.39209509\n",
      "  73.626181  ]\n",
      " [84.37378654 74.94766609 78.68057314 ... 79.34631007 79.69370035\n",
      "  78.07706024]\n",
      " [83.64932173 74.5189059  78.17416195 ... 76.57613851 75.71207354\n",
      "  75.28957624]] in 0.0018277168273925781 seconds\n"
     ]
    }
   ],
   "source": [
    "start = time.time()\n",
    "res = np.matmul(mat1, mat2)\n",
    "end = time.time()\n",
    "\n",
    "print(\"M1 * M2 = {} in {} seconds\".format(res, end - start))"
   ]
  }
 ],
 "metadata": {
  "kernelspec": {
   "display_name": "Python 3.9.1 64-bit",
   "language": "python",
   "name": "python3"
  },
  "language_info": {
   "codemirror_mode": {
    "name": "ipython",
    "version": 3
   },
   "file_extension": ".py",
   "mimetype": "text/x-python",
   "name": "python",
   "nbconvert_exporter": "python",
   "pygments_lexer": "ipython3",
   "version": "3.9.1"
  },
  "orig_nbformat": 4,
  "vscode": {
   "interpreter": {
    "hash": "aee8b7b246df8f9039afb4144a1f6fd8d2ca17a180786b69acc140d282b71a49"
   }
  }
 },
 "nbformat": 4,
 "nbformat_minor": 2
}
